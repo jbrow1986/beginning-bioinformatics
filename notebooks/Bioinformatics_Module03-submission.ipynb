{
  "nbformat": 4,
  "nbformat_minor": 0,
  "metadata": {
    "colab": {
      "provenance": [],
      "collapsed_sections": [
        "jYlnA2Z2FhoW",
        "qRj8vCvXG-1k",
        "s7deJQCHHwOa",
        "GtjxkNHWN5Xo",
        "3yswDberkE7N",
        "4IM-9eAGkPdi",
        "nlBbe3qBRH_J",
        "_F9KCUzCd3ID",
        "iHFNxm30lzic",
        "sOgq54Op4MZL",
        "R5_dYi9f6t1z",
        "LdtXZ0LW9ugo",
        "i4Fo-ddSKWwy",
        "iupO8iI-ZYAe",
        "lY924yM0jckW",
        "NvqGEl4JjpiO",
        "DHzE7CI4lWGw",
        "WD5wnvQkmh6E",
        "kApNvgOLn8lp",
        "kq9QbEttnA4h"
      ],
      "include_colab_link": true
    },
    "kernelspec": {
      "name": "python3",
      "display_name": "Python 3"
    },
    "language_info": {
      "name": "python"
    }
  },
  "cells": [
    {
      "cell_type": "markdown",
      "metadata": {
        "id": "view-in-github",
        "colab_type": "text"
      },
      "source": [
        "<a href=\"https://colab.research.google.com/github/jbrow1986/beginning-bioinformatics/blob/main/notebooks/Bioinformatics_Module03-submission.ipynb\" target=\"_parent\"><img src=\"https://colab.research.google.com/assets/colab-badge.svg\" alt=\"Open In Colab\"/></a>"
      ]
    },
    {
      "cell_type": "markdown",
      "source": [
        "# **<font color=blue>P1.** </font>Rename this notebook **Bioinformatics_Module03.ipynb </font><br>**"
      ],
      "metadata": {
        "id": "l3h89jAYBUzz"
      }
    },
    {
      "cell_type": "markdown",
      "source": [
        "# **<font color=blue>P2. </font>**```print()```writes to standard output (i.e. prints output to the screen)"
      ],
      "metadata": {
        "id": "jYlnA2Z2FhoW"
      }
    },
    {
      "cell_type": "markdown",
      "source": [
        "####**TASK P2.1:** Print <font color = magenta>hello world</font>"
      ],
      "metadata": {
        "id": "r118fqQodA9x"
      }
    },
    {
      "cell_type": "code",
      "source": [
        "print(\"hello world\")"
      ],
      "metadata": {
        "id": "kvxK8D5uFx_x",
        "colab": {
          "base_uri": "https://localhost:8080/"
        },
        "outputId": "ffb7a7a4-51df-4c79-c036-03ab1859607a"
      },
      "execution_count": null,
      "outputs": [
        {
          "output_type": "stream",
          "name": "stdout",
          "text": [
            "hello world\n"
          ]
        }
      ]
    },
    {
      "cell_type": "markdown",
      "source": [
        "# **<font color=blue>P3. </font>**```=``` is the ASSIGNMENT operator (assigns values to variables)\n",
        "####**TASK P3.1:** Ask Gemini, \"*Give me 3 examples to help practice understanding the assignment operator.*\""
      ],
      "metadata": {
        "id": "qRj8vCvXG-1k"
      }
    },
    {
      "cell_type": "code",
      "metadata": {
        "colab": {
          "base_uri": "https://localhost:8080/"
        },
        "id": "53fd3e00",
        "outputId": "44f535cb-8461-4413-abf9-662f79602c11"
      },
      "source": [
        "# Assign the value 10 to the variable 'number'\n",
        "number = 10\n",
        "print(number)"
      ],
      "execution_count": null,
      "outputs": [
        {
          "output_type": "stream",
          "name": "stdout",
          "text": [
            "10\n"
          ]
        }
      ]
    },
    {
      "cell_type": "markdown",
      "source": [],
      "metadata": {
        "id": "dFWK_4xUf9vr"
      }
    },
    {
      "cell_type": "markdown",
      "metadata": {
        "id": "Wt1iKznNf-Mr"
      },
      "source": [
        "Here are 3 examples to help practice understanding the assignment operator `=`:\n",
        "\n",
        "1.  **Basic Assignment**: Assign a value to a variable."
      ]
    },
    {
      "cell_type": "code",
      "source": [
        "x=5\n",
        "x"
      ],
      "metadata": {
        "id": "VB8HPNe7JpuJ"
      },
      "execution_count": null,
      "outputs": []
    },
    {
      "cell_type": "markdown",
      "source": [],
      "metadata": {
        "id": "lFEPtZAVgL9o"
      }
    },
    {
      "cell_type": "markdown",
      "metadata": {
        "id": "HTEOrLscgSUQ"
      },
      "source": [
        "2.  **Reassigning a value**: Change the value of a variable that has already been assigned."
      ]
    },
    {
      "cell_type": "code",
      "source": [
        "# Reassign the value 25 to the variable 'number'\n",
        "number = 25\n",
        "print(number)"
      ],
      "metadata": {
        "id": "gDddb7kagUKq"
      },
      "execution_count": null,
      "outputs": []
    },
    {
      "cell_type": "markdown",
      "source": [],
      "metadata": {
        "id": "9GcoHZVfgelj"
      }
    },
    {
      "cell_type": "markdown",
      "metadata": {
        "id": "kzsM2Ez3goQ-"
      },
      "source": [
        "3.  **Assigning the result of an operation**: Assign the result of an arithmetic or other operation to a variable."
      ]
    },
    {
      "cell_type": "code",
      "metadata": {
        "colab": {
          "base_uri": "https://localhost:8080/"
        },
        "outputId": "9115f155-1897-40f9-d51f-35d7654331a9",
        "id": "Ze8HUaiAgz8o"
      },
      "source": [
        "# Assign the result of the addition (5 + 7) to the variable 'sum_result'\n",
        "sum_result = 5 + 7\n",
        "print(sum_result)\n",
        "\n",
        "# Assign the result of concatenating two strings to the variable 'greeting'\n",
        "greeting = \"Hello\" + \" \" + \"World\"\n",
        "print(greeting)"
      ],
      "execution_count": null,
      "outputs": [
        {
          "output_type": "stream",
          "name": "stdout",
          "text": [
            "12\n",
            "Hello World\n"
          ]
        }
      ]
    },
    {
      "cell_type": "markdown",
      "source": [
        "# **<font color=blue>P4. </font>** Data types: use ```type()``` to find a variable's \"type\"\n",
        "####**TASK P4.1:** Ask Gemini, \"*Give me examples of each data type to see how they look as outputs.*\""
      ],
      "metadata": {
        "id": "s7deJQCHHwOa"
      }
    },
    {
      "cell_type": "code",
      "source": [
        "type(x))"
      ],
      "metadata": {
        "colab": {
          "base_uri": "https://localhost:8080/",
          "height": 106
        },
        "id": "ktR75uWIJ0uc",
        "outputId": "b704dab2-4e0e-4522-e0fb-e661159799b1"
      },
      "execution_count": null,
      "outputs": [
        {
          "output_type": "error",
          "ename": "SyntaxError",
          "evalue": "unmatched ')' (ipython-input-750881560.py, line 1)",
          "traceback": [
            "\u001b[0;36m  File \u001b[0;32m\"/tmp/ipython-input-750881560.py\"\u001b[0;36m, line \u001b[0;32m1\u001b[0m\n\u001b[0;31m    type(x))\u001b[0m\n\u001b[0m           ^\u001b[0m\n\u001b[0;31mSyntaxError\u001b[0m\u001b[0;31m:\u001b[0m unmatched ')'\n"
          ]
        }
      ]
    },
    {
      "cell_type": "markdown",
      "metadata": {
        "id": "c8ec42be"
      },
      "source": [
        "Here are examples of common Python data types:"
      ]
    },
    {
      "cell_type": "markdown",
      "metadata": {
        "id": "QpNHgIJEhFyS"
      },
      "source": [
        "**Integer (`int`)**: Represents whole numbers, positive or negative, without decimals."
      ]
    },
    {
      "cell_type": "code",
      "metadata": {
        "colab": {
          "base_uri": "https://localhost:8080/"
        },
        "outputId": "e23780bf-dbb3-483c-bb37-ca55a7f96417",
        "id": "EFD074szhOT5"
      },
      "source": [
        "my_integer = 100\n",
        "print(my_integer)\n",
        "print(type(my_integer))"
      ],
      "execution_count": null,
      "outputs": [
        {
          "output_type": "stream",
          "name": "stdout",
          "text": [
            "100\n",
            "<class 'int'>\n"
          ]
        }
      ]
    },
    {
      "cell_type": "markdown",
      "metadata": {
        "id": "mySttyg7hnDR"
      },
      "source": [
        "**Float (`float`)**: Represents numbers with a decimal point."
      ]
    },
    {
      "cell_type": "code",
      "metadata": {
        "colab": {
          "base_uri": "https://localhost:8080/"
        },
        "outputId": "48959025-e020-4aa2-d4dc-b756db7e55ee",
        "id": "54lYDPeAhqHe"
      },
      "source": [
        "my_float = 3.14\n",
        "print(my_float)\n",
        "print(type(my_float))"
      ],
      "execution_count": null,
      "outputs": [
        {
          "output_type": "stream",
          "name": "stdout",
          "text": [
            "3.14\n",
            "<class 'float'>\n"
          ]
        }
      ]
    },
    {
      "cell_type": "markdown",
      "metadata": {
        "id": "01834f79"
      },
      "source": [
        "**String (`str`)**: Represents sequences of characters, enclosed in single or double quotes."
      ]
    },
    {
      "cell_type": "code",
      "metadata": {
        "colab": {
          "base_uri": "https://localhost:8080/"
        },
        "id": "0ad9f34e",
        "outputId": "7dc425d7-d096-474b-9344-6f9eab2d771d"
      },
      "source": [
        "my_string = \"Hello, Colab!\"\n",
        "print(my_string)\n",
        "print(type(my_string))"
      ],
      "execution_count": null,
      "outputs": [
        {
          "output_type": "stream",
          "name": "stdout",
          "text": [
            "Hello, Colab!\n",
            "<class 'str'>\n"
          ]
        }
      ]
    },
    {
      "cell_type": "markdown",
      "metadata": {
        "id": "31f2043e"
      },
      "source": [
        "**Boolean (`bool`)**: Represents truth values, either `True` or `False`."
      ]
    },
    {
      "cell_type": "code",
      "metadata": {
        "colab": {
          "base_uri": "https://localhost:8080/"
        },
        "id": "d4f094bb",
        "outputId": "423fd0d0-403b-4d2d-e49c-da751b90871f"
      },
      "source": [
        "my_boolean = True\n",
        "print(my_boolean)\n",
        "print(type(my_boolean))"
      ],
      "execution_count": null,
      "outputs": [
        {
          "output_type": "stream",
          "name": "stdout",
          "text": [
            "True\n",
            "<class 'bool'>\n"
          ]
        }
      ]
    },
    {
      "cell_type": "markdown",
      "metadata": {
        "id": "25490f5c"
      },
      "source": [
        "**List (`list`)**: Represents an ordered collection of items, enclosed in square brackets. Items can be of different data types."
      ]
    },
    {
      "cell_type": "code",
      "metadata": {
        "colab": {
          "base_uri": "https://localhost:8080/"
        },
        "id": "516c2e35",
        "outputId": "af7daecd-ab3a-403b-cdfe-660f08e01499"
      },
      "source": [
        "my_list = [1, \"apple\", False, 3.14]\n",
        "print(my_list)\n",
        "print(type(my_list))"
      ],
      "execution_count": null,
      "outputs": [
        {
          "output_type": "stream",
          "name": "stdout",
          "text": [
            "[1, 'apple', False, 3.14]\n",
            "<class 'list'>\n"
          ]
        }
      ]
    },
    {
      "cell_type": "markdown",
      "metadata": {
        "id": "527e31f4"
      },
      "source": [
        "**Tuple (`tuple`)**: Represents an ordered, immutable collection of items, enclosed in parentheses."
      ]
    },
    {
      "cell_type": "code",
      "metadata": {
        "colab": {
          "base_uri": "https://localhost:8080/"
        },
        "id": "65f018b0",
        "outputId": "96310008-c9cd-4ce0-f668-17d2350a5759"
      },
      "source": [
        "my_tuple = (10, \"banana\", True)\n",
        "print(my_tuple)\n",
        "print(type(my_tuple))"
      ],
      "execution_count": null,
      "outputs": [
        {
          "output_type": "stream",
          "name": "stdout",
          "text": [
            "(10, 'banana', True)\n",
            "<class 'tuple'>\n"
          ]
        }
      ]
    },
    {
      "cell_type": "markdown",
      "metadata": {
        "id": "907157cc"
      },
      "source": [
        "**Dictionary (`dict`)**: Represents an unordered collection of key-value pairs, enclosed in curly braces."
      ]
    },
    {
      "cell_type": "code",
      "metadata": {
        "colab": {
          "base_uri": "https://localhost:8080/"
        },
        "id": "badea941",
        "outputId": "15beded2-6d0c-420d-af0c-8c7d0751b318"
      },
      "source": [
        "my_dictionary = {\"name\": \"Alice\", \"age\": 30}\n",
        "print(my_dictionary)\n",
        "print(type(my_dictionary))"
      ],
      "execution_count": null,
      "outputs": [
        {
          "output_type": "stream",
          "name": "stdout",
          "text": [
            "{'name': 'Alice', 'age': 30}\n",
            "<class 'dict'>\n"
          ]
        }
      ]
    },
    {
      "cell_type": "markdown",
      "metadata": {
        "id": "LL6fbW9oiZxf"
      },
      "source": [
        "**Set (`set`)**: Represents an unordered collection of unique items, enclosed in curly braces."
      ]
    },
    {
      "cell_type": "code",
      "metadata": {
        "colab": {
          "base_uri": "https://localhost:8080/"
        },
        "id": "7bcf6b90",
        "outputId": "a27ba5f2-9cc2-49ef-96e0-8d71c36a978c"
      },
      "source": [
        "my_set = {1, 2, 2, 3, 4, 4, 5}\n",
        "print(my_set)\n",
        "print(type(my_set))"
      ],
      "execution_count": null,
      "outputs": [
        {
          "output_type": "stream",
          "name": "stdout",
          "text": [
            "{1, 2, 3, 4, 5}\n",
            "<class 'set'>\n"
          ]
        }
      ]
    },
    {
      "cell_type": "markdown",
      "source": [
        "# **<font color=blue>P5. </font>** Arithmetic and comparison operators\n",
        "####**TASK P5.1:**   Complete Rosalind #1"
      ],
      "metadata": {
        "id": "GtjxkNHWN5Xo"
      }
    },
    {
      "cell_type": "code",
      "source": [
        "y=2+3\n",
        "print(y)\n",
        "x = 5 # Define x here\n",
        "x==y"
      ],
      "metadata": {
        "id": "45s9c4vyQm2U",
        "colab": {
          "base_uri": "https://localhost:8080/"
        },
        "outputId": "6135a933-e60b-43cf-8ba9-af85b509fbcb"
      },
      "execution_count": null,
      "outputs": [
        {
          "output_type": "stream",
          "name": "stdout",
          "text": [
            "5\n"
          ]
        },
        {
          "output_type": "execute_result",
          "data": {
            "text/plain": [
              "True"
            ]
          },
          "metadata": {},
          "execution_count": 16
        }
      ]
    },
    {
      "cell_type": "code",
      "source": [
        "import this"
      ],
      "metadata": {
        "colab": {
          "base_uri": "https://localhost:8080/"
        },
        "id": "-XFpFV9z52eY",
        "outputId": "caa6662e-4ca4-45fa-c177-5cbfe9d074ce"
      },
      "execution_count": null,
      "outputs": [
        {
          "output_type": "stream",
          "name": "stdout",
          "text": [
            "The Zen of Python, by Tim Peters\n",
            "\n",
            "Beautiful is better than ugly.\n",
            "Explicit is better than implicit.\n",
            "Simple is better than complex.\n",
            "Complex is better than complicated.\n",
            "Flat is better than nested.\n",
            "Sparse is better than dense.\n",
            "Readability counts.\n",
            "Special cases aren't special enough to break the rules.\n",
            "Although practicality beats purity.\n",
            "Errors should never pass silently.\n",
            "Unless explicitly silenced.\n",
            "In the face of ambiguity, refuse the temptation to guess.\n",
            "There should be one-- and preferably only one --obvious way to do it.\n",
            "Although that way may not be obvious at first unless you're Dutch.\n",
            "Now is better than never.\n",
            "Although never is often better than *right* now.\n",
            "If the implementation is hard to explain, it's a bad idea.\n",
            "If the implementation is easy to explain, it may be a good idea.\n",
            "Namespaces are one honking great idea -- let's do more of those!\n"
          ]
        }
      ]
    },
    {
      "cell_type": "code",
      "source": [
        "from google.colab import drive\n",
        "drive.mount('/content/drive')"
      ],
      "metadata": {
        "colab": {
          "base_uri": "https://localhost:8080/"
        },
        "id": "fFzjuVvj6No2",
        "outputId": "cbc25ca7-4b58-4998-805b-e3ed9f03b9a1"
      },
      "execution_count": 5,
      "outputs": [
        {
          "output_type": "stream",
          "name": "stdout",
          "text": [
            "Mounted at /content/drive\n"
          ]
        }
      ]
    },
    {
      "cell_type": "markdown",
      "source": [
        "# **<font color=blue>P6. </font>** ```input()``` gets input from the user"
      ],
      "metadata": {
        "id": "3yswDberkE7N"
      }
    },
    {
      "cell_type": "markdown",
      "source": [
        "TASK P6.1"
      ],
      "metadata": {
        "id": "z97rSY9gqdad"
      }
    },
    {
      "cell_type": "code",
      "metadata": {
        "colab": {
          "base_uri": "https://localhost:8080/"
        },
        "id": "d91046dd",
        "outputId": "3f276c18-159e-4d1e-d125-49b7a344f3e4"
      },
      "source": [
        "name = input(\"Enter your name:\")\n",
        "print(\"Hello, \" + name)"
      ],
      "execution_count": null,
      "outputs": [
        {
          "output_type": "stream",
          "name": "stdout",
          "text": [
            "Enter your name:Jennifer\n",
            "Hello, Jennifer\n"
          ]
        }
      ]
    },
    {
      "cell_type": "markdown",
      "source": [
        "####**TASK P6.1:** Solve Rosalind #1 again, but get user input for the values of a and b rather than modifying the code."
      ],
      "metadata": {
        "id": "e3LaAQeLRmE6"
      }
    },
    {
      "cell_type": "code",
      "source": [
        "a= int(input(\"enter a value for a:\"))\n",
        "b= int(input(\"enter a value for b:\"))\n",
        "c=a**2+b**2\n",
        "print (\"The sq of the hypotenuse is\",c)"
      ],
      "metadata": {
        "id": "wZ0XL0L6Rq2H",
        "colab": {
          "base_uri": "https://localhost:8080/"
        },
        "outputId": "6019f6e8-164b-4699-ca22-31bffd02dcc8"
      },
      "execution_count": null,
      "outputs": [
        {
          "output_type": "stream",
          "name": "stdout",
          "text": [
            "enter a value for a:864\n",
            "enter a value for b:910\n",
            "The sq of the hypotenuse is 1574596\n"
          ]
        }
      ]
    },
    {
      "cell_type": "markdown",
      "source": [
        "# **<font color=blue>P7. </font>** ```list``` type variables (create, replace, append)"
      ],
      "metadata": {
        "id": "4IM-9eAGkPdi"
      }
    },
    {
      "cell_type": "markdown",
      "source": [
        "####**TASK P7.1**"
      ],
      "metadata": {
        "id": "DhNGdYK6NEpe"
      }
    },
    {
      "cell_type": "code",
      "source": [
        "# Create a list with 3 elements and then print them\n",
        "\n",
        "my_list = [\"Hello\", \"World\", \"Charles Darwin\"]\n",
        "print (my_list[1])"
      ],
      "metadata": {
        "id": "N3VRRQIEkXuP",
        "colab": {
          "base_uri": "https://localhost:8080/"
        },
        "outputId": "165651c4-1b0f-44be-e9b7-14439b0fdb05"
      },
      "execution_count": null,
      "outputs": [
        {
          "output_type": "stream",
          "name": "stdout",
          "text": [
            "World\n"
          ]
        }
      ]
    },
    {
      "cell_type": "markdown",
      "source": [
        "####**TASK P7.2**"
      ],
      "metadata": {
        "id": "Yn3bAoi8NKy5"
      }
    },
    {
      "cell_type": "code",
      "source": [
        "# Substitute the item at index 2 in the list\n",
        "my_list[2] = \"Alfred R. Wallace\"\n",
        "print (my_list)"
      ],
      "metadata": {
        "id": "WNnsUuduOKbI",
        "colab": {
          "base_uri": "https://localhost:8080/"
        },
        "outputId": "266ef08f-802e-4d57-dc1f-906cf2222b72"
      },
      "execution_count": null,
      "outputs": [
        {
          "output_type": "stream",
          "name": "stdout",
          "text": [
            "['Hello', 'World', 'Alfred R. Wallace']\n"
          ]
        }
      ]
    },
    {
      "cell_type": "markdown",
      "source": [
        "####**TASK P7.3**"
      ],
      "metadata": {
        "id": "SxiMMNLyPwGV"
      }
    },
    {
      "cell_type": "code",
      "source": [
        "# Append an item to the end of the list\n",
        "my_list.append(\"Charles Darwin\")\n",
        "print (my_list)"
      ],
      "metadata": {
        "id": "3VrLc6CGQTi-",
        "colab": {
          "base_uri": "https://localhost:8080/"
        },
        "outputId": "d2169077-36a0-4812-fd38-bf4b67883deb"
      },
      "execution_count": null,
      "outputs": [
        {
          "output_type": "stream",
          "name": "stdout",
          "text": [
            "['Hello', 'World', 'Alfred R. Wallace', 'Charles Darwin']\n"
          ]
        }
      ]
    },
    {
      "cell_type": "markdown",
      "source": [
        "####**TASK P7.4**. Ask Gemini how to <font color=crimson>```insert```</font> a new item at index 1 in the list"
      ],
      "metadata": {
        "id": "XQKmwgbfQond"
      }
    },
    {
      "cell_type": "code",
      "source": [
        "# On line #2 insert an item at index 1 of my_list\n",
        "my_list.insert(1, \"Albert Einstein\")\n",
        "print(my_list)"
      ],
      "metadata": {
        "id": "u0maP5CZZN13",
        "colab": {
          "base_uri": "https://localhost:8080/"
        },
        "outputId": "3c37ac42-cccb-4248-d068-10ab7d63756e"
      },
      "execution_count": null,
      "outputs": [
        {
          "output_type": "stream",
          "name": "stdout",
          "text": [
            "['Hello', 'Albert Einstein', 'World', 'Alfred R. Wallace', 'Charles Darwin']\n"
          ]
        }
      ]
    },
    {
      "cell_type": "markdown",
      "source": [
        "# **<font color=blue>P8. </font>** Slicing lists and strings"
      ],
      "metadata": {
        "id": "nlBbe3qBRH_J"
      }
    },
    {
      "cell_type": "markdown",
      "source": [
        "####**TASK P8.1** Slice and print only the middle two elements from the list created in P7 (i.e. only <font color=magenta>World</font> and <font color=magenta>Alfred R. Wallace</font>).  "
      ],
      "metadata": {
        "id": "M0YW2MP0WtuI"
      }
    },
    {
      "cell_type": "code",
      "source": [
        "print (my_list[2:4])"
      ],
      "metadata": {
        "colab": {
          "base_uri": "https://localhost:8080/"
        },
        "id": "Tp1djNtiaxSb",
        "outputId": "4a31ce1e-1575-4d0f-8860-6096ea8bad83"
      },
      "execution_count": null,
      "outputs": [
        {
          "output_type": "stream",
          "name": "stdout",
          "text": [
            "['World', 'Alfred R. Wallace']\n"
          ]
        }
      ]
    },
    {
      "cell_type": "markdown",
      "source": [
        "####**TASK P8.2**: Print <font color=magenta>Wallace World</font> from **my_string** by slicing\n"
      ],
      "metadata": {
        "id": "_F9KCUzCd3ID"
      }
    },
    {
      "cell_type": "code",
      "source": [
        "my_string = \"HelloWorldCharlesDarwinAlfred R. Walace\"\n",
        "print (my_string[0:5],my_string[5:10])\n",
        "\n",
        "# in the print command below input the correct index values to complete Task P8.2\n",
        "print (my_string[33:39],my_string[5:10])"
      ],
      "metadata": {
        "colab": {
          "base_uri": "https://localhost:8080/"
        },
        "id": "AafKngtba8En",
        "outputId": "0ce571c0-d7ae-4821-fe17-f3b06db876f3"
      },
      "execution_count": null,
      "outputs": [
        {
          "output_type": "stream",
          "name": "stdout",
          "text": [
            "Hello World\n",
            "Walace World\n"
          ]
        }
      ]
    },
    {
      "cell_type": "markdown",
      "source": [
        "####**TASK P8.3**  **<font color = orange> Complete Rosalind Problem #2 Strings and Lists</font>**"
      ],
      "metadata": {
        "id": "2TTQVE-Xf8jR"
      }
    },
    {
      "cell_type": "code",
      "source": [
        "# Enter code for Rosalind 2 here:\n",
        "my_string = \"mw52f44AnAU99bZIMNjuKi3Mg1ka9F22wC3WPlgrGMRihcpUu6WdvZ8gyENekyAnodontaDNflxhOlqVmIaXCgSGjZQgKcfueE447W5QYKtGazkpxWqso3isNFWEQYvHMvd4txdVRmVvev3ts2xe8xRFGkEOOZTQtlSYr8E2FaAI5pFatSwgleucogastert8yFu.\"\n",
        "print (my_string[62:70], my_string[180:191])"
      ],
      "metadata": {
        "id": "LI88f5RZh4GL",
        "colab": {
          "base_uri": "https://localhost:8080/"
        },
        "outputId": "a5d58217-f591-414a-c148-cf41f2c46d28"
      },
      "execution_count": null,
      "outputs": [
        {
          "output_type": "stream",
          "name": "stdout",
          "text": [
            "Anodonta leucogaster\n"
          ]
        }
      ]
    },
    {
      "cell_type": "code",
      "source": [
        "# Rosalind test code:\n",
        "my_string = \"HumptyDumptysatonawallHumptyDumptyhadagreatfallAlltheKingshorsesandalltheKingsmenCouldntputHumptyDumptyinhisplaceagain.\"\n",
        "print (my_string[22:28], my_string [97:103])"
      ],
      "metadata": {
        "colab": {
          "base_uri": "https://localhost:8080/"
        },
        "id": "8RRHGUT4WLHI",
        "outputId": "74ceed28-08e0-48d4-85df-a468251f05ff"
      },
      "execution_count": null,
      "outputs": [
        {
          "output_type": "stream",
          "name": "stdout",
          "text": [
            "Humpty Dumpty\n"
          ]
        }
      ]
    },
    {
      "cell_type": "markdown",
      "source": [
        "####**<font color=crimson>TASK 8.4 Commit to GitHub**</font>*italicized text*"
      ],
      "metadata": {
        "id": "Tw6Pwh6TjwJ9"
      }
    },
    {
      "cell_type": "markdown",
      "source": [
        "# **<font color=blue>P9. </font>** ```if``` and ```else``` - conditional output"
      ],
      "metadata": {
        "id": "iHFNxm30lzic"
      }
    },
    {
      "cell_type": "markdown",
      "source": [
        "####**TASK P9.1** Create some code that subtracts two numbers if they are different or adds them if they are the same."
      ],
      "metadata": {
        "id": "WCXnGdftztbN"
      }
    },
    {
      "cell_type": "code",
      "source": [
        "a=5\n",
        "b=5\n",
        "\n",
        "if a!=b:\n",
        "  print(a-b)\n",
        "\n",
        "else:\n",
        "  print(a+b)"
      ],
      "metadata": {
        "id": "KabZsL5Fy8jJ",
        "colab": {
          "base_uri": "https://localhost:8080/"
        },
        "outputId": "c7ad4b06-db51-40b6-cec0-1431cd08b975"
      },
      "execution_count": null,
      "outputs": [
        {
          "output_type": "stream",
          "name": "stdout",
          "text": [
            "10\n"
          ]
        }
      ]
    },
    {
      "cell_type": "markdown",
      "source": [
        "# **<font color=blue>P10.</font>** ```while``` loops"
      ],
      "metadata": {
        "id": "sOgq54Op4MZL"
      }
    },
    {
      "cell_type": "markdown",
      "source": [
        "####**TASK P10.1** Create a while loop that runs 3 times\n"
      ],
      "metadata": {
        "id": "JMqGqhTn4l9s"
      }
    },
    {
      "cell_type": "code",
      "source": [
        "#initiate a counter\n",
        "a = 1\n",
        "\n",
        "#print \"Counting!\" while a<=3\n",
        "while a <= 3:\n",
        "\n",
        "    print (\"Counting!\" * a)\n",
        "    a += 1"
      ],
      "metadata": {
        "id": "07YbiCGO4O1w",
        "colab": {
          "base_uri": "https://localhost:8080/"
        },
        "outputId": "6b2c5144-7122-4c9f-f1ba-c20163abdaa6"
      },
      "execution_count": null,
      "outputs": [
        {
          "output_type": "stream",
          "name": "stdout",
          "text": [
            "Counting!\n",
            "Counting!Counting!\n",
            "Counting!Counting!Counting!\n"
          ]
        }
      ]
    },
    {
      "cell_type": "markdown",
      "source": [
        "# **<font color=blue>P11.</font>** ```for``` loops – looping over lists"
      ],
      "metadata": {
        "id": "R5_dYi9f6t1z"
      }
    },
    {
      "cell_type": "markdown",
      "source": [
        "####**TASK P11.1** Create a for loop to print each item in a list\n"
      ],
      "metadata": {
        "id": "x9F7v_V073wO"
      }
    },
    {
      "cell_type": "code",
      "source": [
        "names = [\"Alice\",\"Bob\",\"Charley\"]\n",
        "\n",
        "for name in names:\n",
        "    print (\"Hello\", name)"
      ],
      "metadata": {
        "id": "-aqaQ5hz70yo",
        "colab": {
          "base_uri": "https://localhost:8080/"
        },
        "outputId": "542fcae5-1379-4248-f3d0-054bb6097f6c"
      },
      "execution_count": null,
      "outputs": [
        {
          "output_type": "stream",
          "name": "stdout",
          "text": [
            "Hello Alice\n",
            "Hello Bob\n",
            "Hello Charley\n"
          ]
        }
      ]
    },
    {
      "cell_type": "markdown",
      "source": [
        "# **<font color=blue>P12.</font>** ```for``` loops over a ```range()```of numbers"
      ],
      "metadata": {
        "id": "LdtXZ0LW9ugo"
      }
    },
    {
      "cell_type": "markdown",
      "source": [
        "####**TASK 12.1** Using for and range(), create code that prints the numbers 0-9"
      ],
      "metadata": {
        "id": "jG6jvXEBDi4H"
      }
    },
    {
      "cell_type": "code",
      "source": [
        "# Create a variable to define the  number of iterations\n",
        "iterations = 10\n",
        "\n",
        "#Print the current item's value each time through the loop\n",
        "for number in range(iterations):\n",
        "    print (number)"
      ],
      "metadata": {
        "colab": {
          "base_uri": "https://localhost:8080/"
        },
        "id": "RFBXqQNu_E6X",
        "outputId": "5500153d-558a-47ba-bdf3-328c4425871a"
      },
      "execution_count": null,
      "outputs": [
        {
          "output_type": "stream",
          "name": "stdout",
          "text": [
            "0\n",
            "1\n",
            "2\n",
            "3\n",
            "4\n",
            "5\n",
            "6\n",
            "7\n",
            "8\n",
            "9\n"
          ]
        }
      ]
    },
    {
      "cell_type": "markdown",
      "source": [
        "####**TASK 12.2** Modify the code so that it only prints every 3rd number from 9 through 27 (i.e. including 27)"
      ],
      "metadata": {
        "id": "NRd5srR_G-PQ"
      }
    },
    {
      "cell_type": "code",
      "source": [
        "iterations = 28\n",
        "for number in range(9, iterations, 3):\n",
        "  print (number)"
      ],
      "metadata": {
        "id": "irYTFPO-IRHo",
        "colab": {
          "base_uri": "https://localhost:8080/"
        },
        "outputId": "4af8765b-bbbe-45d8-8a2e-fb570a83ddf3"
      },
      "execution_count": null,
      "outputs": [
        {
          "output_type": "stream",
          "name": "stdout",
          "text": [
            "9\n",
            "12\n",
            "15\n",
            "18\n",
            "21\n",
            "24\n",
            "27\n"
          ]
        }
      ]
    },
    {
      "cell_type": "markdown",
      "source": [
        "####**TASK 12.3** <font color = orange> **Complete Rosalind Problem #3 Conditions and Loops** </font>"
      ],
      "metadata": {
        "id": "83jDEjpMHXUa"
      }
    },
    {
      "cell_type": "code",
      "source": [
        "# Enter code for Rosalind 3 here:\n",
        "total_sum = 0\n",
        "for number in range (4487, 8772):\n",
        "  if number % 2 == 1:\n",
        "    total_sum += number\n",
        "print (total_sum)"
      ],
      "metadata": {
        "id": "EI7hRtakG90R",
        "colab": {
          "base_uri": "https://localhost:8080/"
        },
        "outputId": "fb46a9f7-d81b-4c99-fa30-b3c73cb86068"
      },
      "execution_count": null,
      "outputs": [
        {
          "output_type": "stream",
          "name": "stdout",
          "text": [
            "14205947\n"
          ]
        }
      ]
    },
    {
      "cell_type": "code",
      "source": [
        "# Test Code from Rosalind:\n",
        "total_sum = 0\n",
        "for number in range (100, 200):\n",
        "  if number % 2 == 1:\n",
        "    total_sum += number\n",
        "print (total_sum)"
      ],
      "metadata": {
        "colab": {
          "base_uri": "https://localhost:8080/"
        },
        "id": "DFbkx1lGiLOJ",
        "outputId": "e0ec9958-1b9e-4a9a-a0ad-83deb3c16d0a"
      },
      "execution_count": null,
      "outputs": [
        {
          "output_type": "stream",
          "name": "stdout",
          "text": [
            "7500\n"
          ]
        }
      ]
    },
    {
      "cell_type": "markdown",
      "source": [
        "####**<font color=crimson>TASK 12.4 Commit to GitHub**</font>"
      ],
      "metadata": {
        "id": "3P9DKNbPI1wp"
      }
    },
    {
      "cell_type": "markdown",
      "source": [
        "# **<font color=blue>P13.</font>** File I/O – with open(\"filename\", \"mode\") as filehandle:\n"
      ],
      "metadata": {
        "id": "i4Fo-ddSKWwy"
      }
    },
    {
      "cell_type": "markdown",
      "source": [
        "####**TASK P13.1** Use the ```read()``` function to print the <font color = orange>practice dataset from Rosalind #4</font>\n"
      ],
      "metadata": {
        "id": "sgc3wiQmLXcI"
      }
    },
    {
      "cell_type": "code",
      "source": [
        "with open(\"practice.txt\",\"r\") as data:\n",
        "\n",
        "    print(data.read())\n",
        "\n",
        "    print(data.readline())\n",
        "\n",
        "    print(data.readlines())"
      ],
      "metadata": {
        "id": "V5nzHsnULA_n",
        "colab": {
          "base_uri": "https://localhost:8080/"
        },
        "outputId": "1dc4e98c-78c1-4ec6-f8cc-feca55411445"
      },
      "execution_count": null,
      "outputs": [
        {
          "output_type": "stream",
          "name": "stdout",
          "text": [
            "Bravely bold Sir Robin rode forth from Camelot\n",
            "Yes, brave Sir Robin turned about\n",
            "He was not afraid to die, O brave Sir Robin\n",
            "And gallantly he chickened out\n",
            "He was not at all afraid to be killed in nasty ways\n",
            "Bravely talking to his feet\n",
            "Brave, brave, brave, brave Sir Robin\n",
            "He beat a very brave retreat\n",
            "\n",
            "[]\n"
          ]
        }
      ]
    },
    {
      "cell_type": "markdown",
      "source": [
        "####**TASK P13.2** Explore file object functions to read and print practice.txt"
      ],
      "metadata": {
        "id": "GLO6tBYNVzYZ"
      }
    },
    {
      "cell_type": "markdown",
      "source": [
        "#<font color=blue>**P14.**</font> Store the content, close the file, and join ( ) the list"
      ],
      "metadata": {
        "id": "iupO8iI-ZYAe"
      }
    },
    {
      "cell_type": "code",
      "source": [
        "with open(\"practice.txt\",\"r\") as data:\n",
        "\n",
        "  list_of_lines=data.readlines()\n",
        "\n",
        "print (list_of_lines)"
      ],
      "metadata": {
        "id": "8U5w2qOudDyp",
        "colab": {
          "base_uri": "https://localhost:8080/"
        },
        "outputId": "fde85178-c7df-47ab-d00a-a661cf2bd046"
      },
      "execution_count": null,
      "outputs": [
        {
          "output_type": "stream",
          "name": "stdout",
          "text": [
            "['Bravely bold Sir Robin rode forth from Camelot\\n', 'Yes, brave Sir Robin turned about\\n', 'He was not afraid to die, O brave Sir Robin\\n', 'And gallantly he chickened out\\n', 'He was not at all afraid to be killed in nasty ways\\n', 'Bravely talking to his feet\\n', 'Brave, brave, brave, brave Sir Robin\\n', 'He beat a very brave retreat']\n"
          ]
        }
      ]
    },
    {
      "cell_type": "markdown",
      "source": [
        "####**TASK P14.1** Read practice.txt into a list of lines. Then, after the file is closed, use the join ( ) function to print the contents so it looks like the original input."
      ],
      "metadata": {
        "id": "5pPhGmQYiiKx"
      }
    },
    {
      "cell_type": "code",
      "source": [
        "print (\"\".join(list_of_lines))"
      ],
      "metadata": {
        "id": "XLvFZ9uSeyYH",
        "colab": {
          "base_uri": "https://localhost:8080/"
        },
        "outputId": "b7eeb667-11c1-40a9-9b01-9a876e2cb5a1"
      },
      "execution_count": null,
      "outputs": [
        {
          "output_type": "stream",
          "name": "stdout",
          "text": [
            "Bravely bold Sir Robin rode forth from Camelot\n",
            "Yes, brave Sir Robin turned about\n",
            "He was not afraid to die, O brave Sir Robin\n",
            "And gallantly he chickened out\n",
            "He was not at all afraid to be killed in nasty ways\n",
            "Bravely talking to his feet\n",
            "Brave, brave, brave, brave Sir Robin\n",
            "He beat a very brave retreat\n"
          ]
        }
      ]
    },
    {
      "cell_type": "markdown",
      "source": [
        "#<font color=blue>**P15.**</font> Combining for loops with file objects"
      ],
      "metadata": {
        "id": "lY924yM0jckW"
      }
    },
    {
      "cell_type": "markdown",
      "source": [
        "####**TASK P15.1** Use a for loop to print each line in practice.txt"
      ],
      "metadata": {
        "id": "NvqGEl4JjpiO"
      }
    },
    {
      "cell_type": "code",
      "source": [
        "with open(\"practice.txt\",\"r\") as data:\n",
        "\n",
        "  for line in data:\n",
        "    print (line.rstrip())"
      ],
      "metadata": {
        "id": "snY-10pUkMby",
        "colab": {
          "base_uri": "https://localhost:8080/"
        },
        "outputId": "918dd6ca-5d8e-4bce-d296-f4d65d300370"
      },
      "execution_count": null,
      "outputs": [
        {
          "output_type": "stream",
          "name": "stdout",
          "text": [
            "Bravely bold Sir Robin rode forth from Camelot\n",
            "Yes, brave Sir Robin turned about\n",
            "He was not afraid to die, O brave Sir Robin\n",
            "And gallantly he chickened out\n",
            "He was not at all afraid to be killed in nasty ways\n",
            "Bravely talking to his feet\n",
            "Brave, brave, brave, brave Sir Robin\n",
            "He beat a very brave retreat\n"
          ]
        }
      ]
    },
    {
      "cell_type": "markdown",
      "source": [
        "####**TASK P15.2** <font color=orange>**Complete Rosalind Problem #4 Working with Files**</font>\n"
      ],
      "metadata": {
        "id": "DHzE7CI4lWGw"
      }
    },
    {
      "cell_type": "code",
      "source": [
        "# Rosalind Practice with for loop\n",
        "with open(\"practice.txt\",\"r\") as data:\n",
        "  line_number = 1\n",
        "  for line in data:\n",
        "    if line_number % 2 == 0:\n",
        "        print(line.rstrip())\n",
        "    line_number += 1"
      ],
      "metadata": {
        "id": "8QR9dRFtltBN",
        "colab": {
          "base_uri": "https://localhost:8080/"
        },
        "outputId": "5a8502cc-dd72-4871-9cd5-f03b457a1c00"
      },
      "execution_count": null,
      "outputs": [
        {
          "output_type": "stream",
          "name": "stdout",
          "text": [
            "Yes, brave Sir Robin turned about\n",
            "And gallantly he chickened out\n",
            "Bravely talking to his feet\n",
            "He beat a very brave retreat\n"
          ]
        }
      ]
    },
    {
      "cell_type": "code",
      "source": [
        "# Rosalind Practice with join slicing\n",
        "with open(\"practice.txt\",\"r\") as data:\n",
        "  list_of_lines=data.readlines()\n",
        "print (\"\".join(every_other))"
      ],
      "metadata": {
        "colab": {
          "base_uri": "https://localhost:8080/"
        },
        "id": "jBfD8j9u3TQh",
        "outputId": "c1736633-2e6a-4cbe-ea91-31563b57675a"
      },
      "execution_count": null,
      "outputs": [
        {
          "output_type": "stream",
          "name": "stdout",
          "text": [
            "Yes, brave Sir Robin turned about\n",
            "And gallantly he chickened out\n",
            "Bravely talking to his feet\n",
            "He beat a very brave retreat\n"
          ]
        }
      ]
    },
    {
      "cell_type": "code",
      "source": [
        "# Enter code from Rosalind 4 here\n",
        "with open(\"/content/rosalinddata.txt\",\"r\") as rosalinddata:\n",
        "  line_number = 1\n",
        "  for line in rosalinddata:\n",
        "    if line_number % 2 == 0:\n",
        "        print(line.rstrip())\n",
        "    line_number += 1"
      ],
      "metadata": {
        "colab": {
          "base_uri": "https://localhost:8080/"
        },
        "id": "PjIi7KXd8sXJ",
        "outputId": "92edbcca-0c03-4db4-ea78-c7bb6d41ea8f"
      },
      "execution_count": null,
      "outputs": [
        {
          "output_type": "stream",
          "name": "stdout",
          "text": [
            "Some things in life are bad, they can really make you mad\n",
            "Other things just make you swear and curse\n",
            "When you're chewing on life's gristle, don't grumble give a whistle\n",
            "This will help things turn out for the best\n",
            "Always look on the bright side of life\n",
            "Always look on the right side of life\n",
            "If life seems jolly rotten, there's something you've forgotten\n",
            "And that's to laugh and smile and dance and sing\n",
            "When you're feeling in the dumps, don't be silly, chumps\n",
            "Just purse your lips and whistle, that's the thing\n",
            "So, always look on the bright side of death\n",
            "Just before you draw your terminal breath\n",
            "Life's a counterfeit and when you look at it\n",
            "Life's a laugh and death's the joke, it's true\n",
            "You see, it's all a show, keep them laughing as you go\n",
            "Just remember the last laugh is on you\n",
            "Always look on the bright side of life\n",
            "And always look on the right side of life\n",
            "Always look on the bright side of life\n",
            "And always look on the right side of life\n"
          ]
        }
      ]
    },
    {
      "cell_type": "markdown",
      "source": [
        "####**<font color=crimson>TASK 15.4 Commit to GitHub**</font>"
      ],
      "metadata": {
        "id": "GJ_acW4WlwDn"
      }
    },
    {
      "cell_type": "markdown",
      "source": [
        "#<font color=blue>**P16.**</font> ```for word in line.split()``` – looping over strings and splitting by any delimiter"
      ],
      "metadata": {
        "id": "WD5wnvQkmh6E"
      }
    },
    {
      "cell_type": "markdown",
      "source": [
        "####**TASK P16.1** Print each word in the ROSALIND Problem #5 Sample Dataset on a separate line.\n"
      ],
      "metadata": {
        "id": "kApNvgOLn8lp"
      }
    },
    {
      "cell_type": "code",
      "source": [
        "with open(\"practice_5.txt\",\"r\") as data:\n",
        "\n",
        "  line=data.read()\n",
        "\n",
        "for word in line.split():\n",
        "    print (word)"
      ],
      "metadata": {
        "colab": {
          "base_uri": "https://localhost:8080/"
        },
        "id": "PBjyhwclpKoM",
        "outputId": "391ab84d-2889-4337-8fdb-128ec3550027"
      },
      "execution_count": null,
      "outputs": [
        {
          "output_type": "stream",
          "name": "stdout",
          "text": [
            "We\n",
            "tried\n",
            "list\n",
            "and\n",
            "we\n",
            "tried\n",
            "dicts\n",
            "also\n",
            "we\n",
            "tried\n",
            "Zen\n"
          ]
        }
      ]
    },
    {
      "cell_type": "markdown",
      "source": [
        "#<font color=blue>**P17.**</font> Python Dictionaries { }"
      ],
      "metadata": {
        "id": "kq9QbEttnA4h"
      }
    },
    {
      "cell_type": "markdown",
      "source": [
        "####**TASK 17.1** Create and print your first dictionary"
      ],
      "metadata": {
        "id": "lVudFQkZqJgh"
      }
    },
    {
      "cell_type": "code",
      "source": [
        "sequences = {\n",
        "    \"H.neandertalensis\":\"ACGTCGCTCTGCTA\",\n",
        "    \"H.sapiens\":\"ACGTCACTCTGCTA\"\n",
        "    }\n",
        "\n",
        "print (sequences)"
      ],
      "metadata": {
        "colab": {
          "base_uri": "https://localhost:8080/"
        },
        "id": "IzKFWDlgq6zo",
        "outputId": "5ac09661-3451-4c4d-a27b-f0ea004131af"
      },
      "execution_count": null,
      "outputs": [
        {
          "output_type": "stream",
          "name": "stdout",
          "text": [
            "{'H.neandertalensis': 'ACGTCGCTCTGCTA', 'H.sapiens': 'ACGTCACTCTGCTA'}\n"
          ]
        }
      ]
    },
    {
      "cell_type": "markdown",
      "source": [
        "#<font color=blue>**P18.**</font> Manipulating and printing dictionaries"
      ],
      "metadata": {
        "id": "OvqoT6UwnK0g"
      }
    },
    {
      "cell_type": "markdown",
      "source": [
        "####**TASK 18.1** Modify line 8 to create a fasta file of the hominid sequences"
      ],
      "metadata": {
        "id": "5Be2tcQRrjso"
      }
    },
    {
      "cell_type": "code",
      "source": [
        "sequences[\"P.troglodytes\"]=\"ACGTCACTCTCCTA\"\n",
        "\n",
        "sequences.update({\"G.gorilla\":\"ACGTCCTCCTA\", \"H.erectus\":\"ACGTCACTCTGCTA\"})\n",
        "\n",
        "print (sequences[\"H.sapiens\"])\n",
        "\n",
        "for key,value in sequences.items():\n",
        "     print (key, value)"
      ],
      "metadata": {
        "colab": {
          "base_uri": "https://localhost:8080/"
        },
        "id": "b-2XDof4rtP8",
        "outputId": "d261ec48-7bda-4ba1-f8c6-d9186b74a615"
      },
      "execution_count": null,
      "outputs": [
        {
          "output_type": "stream",
          "name": "stdout",
          "text": [
            "ACGTCACTCTGCTA\n",
            "H.neandertalensis ACGTCGCTCTGCTA\n",
            "H.sapiens ACGTCACTCTGCTA\n",
            "P.troglodytes ACGTCACTCTCCTA\n",
            "G.gorilla ACGTCCTCCTA\n",
            "H.erectus ACGTCACTCTGCTA\n"
          ]
        }
      ]
    },
    {
      "cell_type": "code",
      "source": [
        "sequences[\"P.troglodytes\"]=\"ACGTCACTCTCCTA\"\n",
        "\n",
        "sequences.update({\"G.gorilla\":\"ACGTCCTCCTA\", \"H.erectus\":\"ACGTCACTCTGCTA\"})\n",
        "\n",
        "print (sequences[\"H.sapiens\"])\n",
        "\n",
        "for key,value in sequences.items():\n",
        "# Break the dictionary down to a word-by-word list.\n",
        "# Print a > on every key.\n",
        "    print (\">\" + key)\n",
        "    print (value)\n"
      ],
      "metadata": {
        "colab": {
          "base_uri": "https://localhost:8080/"
        },
        "id": "RAY_RH7zLDiM",
        "outputId": "621f9b62-6bf8-474f-fbfd-1c7ed98f1ab0"
      },
      "execution_count": null,
      "outputs": [
        {
          "output_type": "stream",
          "name": "stdout",
          "text": [
            "ACGTCACTCTGCTA\n",
            ">H.neandertalensis\n",
            "ACGTCGCTCTGCTA\n",
            ">H.sapiens\n",
            "ACGTCACTCTGCTA\n",
            ">P.troglodytes\n",
            "ACGTCACTCTCCTA\n",
            ">G.gorilla\n",
            "ACGTCCTCCTA\n",
            ">H.erectus\n",
            "ACGTCACTCTGCTA\n"
          ]
        }
      ]
    },
    {
      "cell_type": "markdown",
      "source": [
        "####**TASK P18.2** <font color= orange>**Complete Rosalind Problem #5  Dictionaries**</font>"
      ],
      "metadata": {
        "id": "Y98OZYUNvmWD"
      }
    },
    {
      "cell_type": "code",
      "source": [
        "with open(\"/content/rosalinddata5.txt\",\"r\") as rosalinddata5:\n",
        "  dictionary = {}\n",
        "  for line in rosalinddata5:\n",
        "    words = line.split()\n",
        "    for word in words:\n",
        "      if word not in dictionary:\n",
        "        dictionary[word] = 1\n",
        "      else:\n",
        "        dictionary[word] += 1\n",
        "for key, value in dictionary.items():\n",
        "  print (key, value)"
      ],
      "metadata": {
        "id": "lD3KoTY9wWa7",
        "colab": {
          "base_uri": "https://localhost:8080/"
        },
        "outputId": "ec8b5995-dd4d-4151-e40c-b71c4ba10be8"
      },
      "execution_count": null,
      "outputs": [
        {
          "output_type": "stream",
          "name": "stdout",
          "text": [
            "When 1\n",
            "I 2\n",
            "find 1\n",
            "myself 1\n",
            "in 4\n",
            "times 1\n",
            "of 11\n",
            "trouble 1\n",
            "Mother 2\n",
            "Mary 2\n",
            "comes 2\n",
            "to 3\n",
            "me 4\n",
            "Speaking 3\n",
            "words 7\n",
            "wisdom 7\n",
            "let 30\n",
            "it 36\n",
            "be 41\n",
            "And 3\n",
            "my 1\n",
            "hour 1\n",
            "darkness 1\n",
            "she 1\n",
            "is 4\n",
            "standing 1\n",
            "right 1\n",
            "front 1\n",
            "Let 6\n",
            "Whisper 4\n",
            "when 2\n",
            "the 4\n",
            "broken 1\n",
            "hearted 1\n",
            "people 1\n",
            "living 1\n",
            "world 1\n",
            "agree 1\n",
            "There 4\n",
            "will 5\n",
            "an 4\n",
            "answer 4\n",
            "For 1\n",
            "though 1\n",
            "they 2\n",
            "may 1\n",
            "parted 1\n",
            "there 2\n",
            "still 2\n",
            "a 2\n",
            "chance 1\n",
            "that 2\n",
            "see 1\n",
            "night 1\n",
            "cloudy 1\n",
            "light 1\n",
            "shines 1\n",
            "on 1\n",
            "Shine 1\n",
            "until 1\n",
            "tomorrow 1\n",
            "wake 1\n",
            "up 1\n",
            "sound 1\n",
            "music 1\n",
            "yeah 2\n"
          ]
        }
      ]
    },
    {
      "cell_type": "markdown",
      "source": [
        "####**<font color=crimson>TASK 18.3 Commit to GitHub**</font>"
      ],
      "metadata": {
        "id": "1dJdfy4bwVO4"
      }
    },
    {
      "cell_type": "markdown",
      "source": [
        "#<font color=blue>**P19.**</font> ```count()``` – counting things made easy"
      ],
      "metadata": {
        "id": "28ygQlYJnZoA"
      }
    },
    {
      "cell_type": "markdown",
      "source": [
        "####**TASK P19.1** <font color= orange>**Complete Rosalind Problem #6  Counting DNA Nucleotides**</font>"
      ],
      "metadata": {
        "id": "CZ9tBWDmw4D-"
      }
    },
    {
      "cell_type": "code",
      "source": [
        "with open(\"/content/rosalinddata6.txt\",\"r\") as rosalinddata6:\n",
        "  DNA = rosalinddata6.read()\n",
        "  print (DNA.count(\"A\"), DNA.count(\"C\"), DNA.count(\"G\"), DNA.count(\"T\"))"
      ],
      "metadata": {
        "id": "GlwS14zGxBIC",
        "colab": {
          "base_uri": "https://localhost:8080/"
        },
        "outputId": "4d85f89a-d756-4caf-8b36-404ea4c5f02e"
      },
      "execution_count": null,
      "outputs": [
        {
          "output_type": "stream",
          "name": "stdout",
          "text": [
            "196 262 251 235\n"
          ]
        }
      ]
    },
    {
      "cell_type": "markdown",
      "source": [
        "####**TASK P19.2** Modify your code for the Rosalind #5 Dictionary problem so that it uses count( ) to count the words."
      ],
      "metadata": {
        "id": "rj-OWB6Jym5y"
      }
    },
    {
      "cell_type": "code",
      "source": [
        "# Code Test\n",
        "with open(\"/content/five_words.txt\",\"r\") as fivewords:\n",
        "  word_count = set()\n",
        "  for line in fivewords:\n",
        "    words = line.split()\n",
        "    for word in words:\n",
        "      word_count.add(word)\n",
        "count = 0\n",
        "for word in word_count:\n",
        "  count += 1\n",
        "print (count)"
      ],
      "metadata": {
        "colab": {
          "base_uri": "https://localhost:8080/"
        },
        "id": "p2RMIdAb9oA8",
        "outputId": "7c6f989e-3804-481f-8ca3-c41b44bc31eb"
      },
      "execution_count": null,
      "outputs": [
        {
          "output_type": "stream",
          "name": "stdout",
          "text": [
            "5\n"
          ]
        }
      ]
    },
    {
      "cell_type": "code",
      "source": [
        "with open(\"/content/rosalinddata5.txt\",\"r\") as rosalinddata5:\n",
        "  word_count = set()\n",
        "  for line in rosalinddata5:\n",
        "    words = line.split()\n",
        "    for word in words:\n",
        "      word_count.add(word)\n",
        "count = 0\n",
        "for word in word_count:\n",
        "  count += 1\n",
        "print (count)"
      ],
      "metadata": {
        "id": "9H_S6jLnzfxR",
        "colab": {
          "base_uri": "https://localhost:8080/"
        },
        "outputId": "f981f408-6207-4fed-f155-682dbb120041"
      },
      "execution_count": null,
      "outputs": [
        {
          "output_type": "stream",
          "name": "stdout",
          "text": [
            "66\n"
          ]
        }
      ]
    },
    {
      "cell_type": "markdown",
      "source": [
        "####**<font color=crimson>TASK 19.3 Commit to GitHub**</font>\n"
      ],
      "metadata": {
        "id": "RzMon_wAzg7D"
      }
    },
    {
      "cell_type": "markdown",
      "source": [
        "#<font color=blue>**P20.**</font> Installing biopython"
      ],
      "metadata": {
        "id": "-IB0c2gG0Z1O"
      }
    },
    {
      "cell_type": "code",
      "source": [
        "!pip install biopython"
      ],
      "metadata": {
        "colab": {
          "base_uri": "https://localhost:8080/"
        },
        "id": "pinPQdEn0mJM",
        "outputId": "0bb1e3a3-29a6-4ff9-92b4-4013821fa214"
      },
      "execution_count": 1,
      "outputs": [
        {
          "output_type": "stream",
          "name": "stdout",
          "text": [
            "Collecting biopython\n",
            "  Downloading biopython-1.85-cp312-cp312-manylinux_2_17_x86_64.manylinux2014_x86_64.whl.metadata (13 kB)\n",
            "Requirement already satisfied: numpy in /usr/local/lib/python3.12/dist-packages (from biopython) (2.0.2)\n",
            "Downloading biopython-1.85-cp312-cp312-manylinux_2_17_x86_64.manylinux2014_x86_64.whl (3.3 MB)\n",
            "\u001b[2K   \u001b[90m━━━━━━━━━━━━━━━━━━━━━━━━━━━━━━━━━━━━━━━━\u001b[0m \u001b[32m3.3/3.3 MB\u001b[0m \u001b[31m26.2 MB/s\u001b[0m eta \u001b[36m0:00:00\u001b[0m\n",
            "\u001b[?25hInstalling collected packages: biopython\n",
            "Successfully installed biopython-1.85\n"
          ]
        }
      ]
    },
    {
      "cell_type": "code",
      "metadata": {
        "colab": {
          "base_uri": "https://localhost:8080/"
        },
        "id": "5ccd6f0b",
        "outputId": "c9292191-9d1b-4dc0-9289-6da43649996b"
      },
      "source": [
        "try:\n",
        "  from Bio.Seq import Seq\n",
        "  print(\"Biopython is installed correctly.\")\n",
        "except ImportError:\n",
        "  print(\"Biopython is not installed or there was an import error.\")"
      ],
      "execution_count": 2,
      "outputs": [
        {
          "output_type": "stream",
          "name": "stdout",
          "text": [
            "Biopython is installed correctly.\n"
          ]
        }
      ]
    },
    {
      "cell_type": "markdown",
      "source": [
        "#<font color=blue>**P21.**</font> Seq( ) – a function to define sequence objects"
      ],
      "metadata": {
        "id": "IGX-ThdQ3RuA"
      }
    },
    {
      "cell_type": "code",
      "source": [
        "from Bio.Seq import Seq\n",
        "\n",
        "my_sequence = Seq(\"GATGGAACTTGACTACGTAAATT\")"
      ],
      "metadata": {
        "id": "ltZBr8mE4OhM"
      },
      "execution_count": 4,
      "outputs": []
    },
    {
      "cell_type": "markdown",
      "source": [
        "####**TASK BP21.2** <font color=orange> **Complete Rosalind #7 Transcribing DNA into RNA**</font>"
      ],
      "metadata": {
        "id": "UXCuEFxg6Jxx"
      }
    },
    {
      "cell_type": "code",
      "source": [
        "with open(\"/content/practice_7.txt\",\"r\") as practice_7:\n",
        "  DNA = practice_7.read()\n",
        "  my_sequence = Seq(DNA)\n",
        "  RNA = my_sequence.transcribe()\n",
        "  print (RNA)"
      ],
      "metadata": {
        "id": "UXt6gWLM6qde",
        "colab": {
          "base_uri": "https://localhost:8080/"
        },
        "outputId": "1118828c-20a8-4d91-8ce5-8e257c23931f"
      },
      "execution_count": 8,
      "outputs": [
        {
          "output_type": "stream",
          "name": "stdout",
          "text": [
            "GAUGGAACUUGACUACGUAAAUU\n"
          ]
        }
      ]
    },
    {
      "cell_type": "code",
      "source": [
        "with open(\"/content/rosalinddata7.txt\",\"r\") as rosalinddata7:\n",
        "  DNA = rosalinddata7.read()\n",
        "  my_sequence = Seq(DNA)\n",
        "  RNA = my_sequence.transcribe()\n",
        "  print (RNA)"
      ],
      "metadata": {
        "colab": {
          "base_uri": "https://localhost:8080/"
        },
        "id": "OCLT5CZVV9-Q",
        "outputId": "a9faf585-cc32-4bd4-e6eb-aea40bbd819e"
      },
      "execution_count": 9,
      "outputs": [
        {
          "output_type": "stream",
          "name": "stdout",
          "text": [
            "CUUCGCAAUGUACCCGGGAUAACUCCGGACUGCUAACCCCGGCAGCAAAUGGCUAGAAAAGAUUUUCAGCGCUUGUGCGGACGGUAUCCCCCGAGCUAGGAAAUCCUGUAUUCUACCCCGGUUUGUACGCGAAGGCCUGAGGCGGGAAAAUAGGUGCUAGGUCGCAAGGUGCCUUCAUUUAAACAUGCCAACGACUUUGGACUACGAUACCAAAGGAUGGAGUAUCCUAACCUUUUGAGUUGUUGAUUGGGCUGCAGAGGCCGCGGAUGGUACAAGUCCCUCUAGUGGCGUAUGAUUACACGUGAGCGGGAGGAAAGCAGAUGUGUCACUAGAACCCGUUUGGUCGGUUCCAAAUACCACUAGGGCUGUAACACUACAAGUGCGCGAUCAUAAAGGCCGAGUUCAGUCUUAAACCACCAUGACUUAAACGAUAUCACGUUCCAGCAAGGGAGGUACGUCGGGUGUGCAGCUGUCAUGUUGCGUAGGGAGACCAGGUACAUCCGACGCAAACGUAAACGAAAAAAGUGAUAUGCUCCAUGACUGACUCGGAAGAGCAUCCCGUUGGACAGGAAUAAAAAAUUUCUAAUUAACCCUGCGAGAGAACUGAUUAUGCGAACGAGGAGGAACGUUUAACAACAGAACGUAAUCACUGCUCUCCGAACCCGUGUUCUUGUGGCGUAGGUGCAAGCUUAGCUCAUGAUGGGGUUUCUGCACAAGGAAAGCAUAGUUGACUUCAGUGCCAGAGAUUGAAAUGGGAUGGCAUUCCGGGGACAUAGUUAUUAUGAUUUUUAUCUCGAGUCAAUGGAGAGGUAUACGAACCAUGGCGUAGUGUCUACAGUCAUGAACUAUGAUGCUAUACGCUACCUCUAGUCGAUGAUUCGAAGCUGAUCAUUGUAGCGAUUAACUUAGCUUUUGAGCUACGAAAGGCUUGCAAAUGUUCACACAACCCGGAAAU\n",
            "\n"
          ]
        }
      ]
    },
    {
      "cell_type": "code",
      "source": [
        "# Rosalind Problem 7.5 The Secondary and Tertiary Structures of DNA\n",
        "from Bio.Seq import Seq\n",
        "\n",
        "with open(\"/content/rosalinddata7_5.txt\",\"r\") as rosalinddata7_5:\n",
        "  DNA = rosalinddata7_5.read()\n",
        "  my_sequence = Seq(DNA)\n",
        "  RNA = my_sequence.reverse_complement()\n",
        "  print (RNA)"
      ],
      "metadata": {
        "colab": {
          "base_uri": "https://localhost:8080/"
        },
        "id": "PPQ6KLihXVz4",
        "outputId": "1482f21b-773b-4959-9154-c87e85a61ba7"
      },
      "execution_count": 10,
      "outputs": [
        {
          "output_type": "stream",
          "name": "stdout",
          "text": [
            "\n",
            "TCATTGCGTCAAACTATTATTCCAAGCCCATGTGCACGAAGCCAGATTTGAACTATCTCCGAGAGCTCTTGCCTCAGGATAGTCATAGAACGTTGGTGCTGGTCGTTACGCACCGGCCCAACTGATGTCCCTTACAAGGTGCATTCTTCTCCACAACTCACGCCTGGAAAAATTCAATCTACGTTTCTTTCCCTACTATCACCACTACAGCTTCGGCTGCTCGACAGCGTGTTGTCCTTCGGGGGGGCCTTACCACCTGACGACTCGTAGGCCCGATGAGAGCCGGTTTAAGTACTTGGATGGAAGTTTCGTATCAAGTCATTGTTTGGTTATGATAGTACTCCTAGCGGACGCGCCTGTTTAGCATAGCTTCTTCCGACTTTACACGTCCATAGCGGAGATCGTTGGGGATTTGTTGGTGCGTCTAGCCGGTCCGCGTGTGCTACGATCTTTTCAGTCCCCCTCCAAAGAATACTTATCAGGCCCGATGAATCATCACGTTGCAGGATAGCGTTGTACAAATTACGGAAAGACTGCGGTTAAACCTCGGCGTCTCATCACGCTGTCGACCTGAGCCGCTAAGTGTGATCAACAGGCAGAGTCGAGCTCCGGAATACTAGTAAGCTTAGTTGGCTAGTATCCAGTCTCCGGCTTGTCACAGGGCAAGTAGCTAAAGAGTATGGTATACATGGTTAAAGAAAAATGCCGTCGAAAGCCGTCAATTCGACCTTGTCCCATTGATTTCCAAAATTCTGATACGGATCCAGTAGGTCCGCTCGGCACTCCGTTAGTATGACGGACCGCGCGGGATGCAAATTTAGATTGGGTATGAGGCCGTTCATACCTTCCCCATACTTTAGCCAGGATAAGCGACGAGCGTTTATGAGTGGGCTTACTCTGTTCGTTCGCTCGAGGATGTCGCGTTAGTTCAACCGGGACATTACTCATAGATCAGGGTACTTATGGCAATAGCCTGATAGCCATCGTTCATT\n"
          ]
        }
      ]
    },
    {
      "cell_type": "markdown",
      "source": [
        "####**TASK BP21.2** <font color=orange> **Complete Rosalind #8  Translating RNA into Protein**</font>"
      ],
      "metadata": {
        "id": "9P4_MaXp6O3n"
      }
    },
    {
      "cell_type": "code",
      "source": [
        "# Rosalind 8 test\n",
        "from Bio.Seq import Seq\n",
        "\n",
        "with open(\"/content/practice_8.txt\",\"r\") as practice_8:\n",
        "  DNA = practice_8.read()\n",
        "  my_sequence = Seq(DNA)\n",
        "  protein = my_sequence.translate()\n",
        "  print (protein)"
      ],
      "metadata": {
        "id": "5Rzzfzij6q2P",
        "colab": {
          "base_uri": "https://localhost:8080/"
        },
        "outputId": "21a7dc62-ec94-4f21-957e-65b3ab211ca1"
      },
      "execution_count": 11,
      "outputs": [
        {
          "output_type": "stream",
          "name": "stdout",
          "text": [
            "MAMAPRTEINSTRING*\n"
          ]
        }
      ]
    },
    {
      "cell_type": "code",
      "source": [
        "# Enter code from Rosalind 8 here\n",
        "from Bio.Seq import Seq\n",
        "\n",
        "with open(\"/content/rosalinddata8.txt\",\"r\") as rosalinddata8:\n",
        "  DNA = rosalinddata8.read()\n",
        "  my_sequence = Seq(DNA)\n",
        "  protein = my_sequence.translate()\n",
        "  print (protein)"
      ],
      "metadata": {
        "colab": {
          "base_uri": "https://localhost:8080/"
        },
        "id": "wsc9dnuaaTCS",
        "outputId": "29d25d06-9f44-4726-b02a-8f47629ccd3d"
      },
      "execution_count": 12,
      "outputs": [
        {
          "output_type": "stream",
          "name": "stdout",
          "text": [
            "MPPDPSPKCYDSGLERVPNDIMSKLQRSPRSIADLFLLVNHNETPPQDLIALVTRYHHTFFEVLCLSYMRIPKSNGASSKSLPLSRIDGNRLHHVGIADLVCELSVKYHGCRYLLPPKQSVCIPSTYRYLAVYTEIYRGKFPWSVETAKGTLLGPMIGPLRSHTFSRQRLLVRSHSGTPTIEYTCVRVPAENRSGESLEWHFSLVVSEAATVGASSCSLAWAIRRNVLIFTAIAGRMVQGLLTAYGSLIPYPFTGASSIFTIKAGSCYDSPPLDPAISSGIVDRDNNWRDQCFNEPTCSFHTELPAWSVDSLVLRSITLQIRLAIMRELNKLAEVAETDASCWRMKSFLQAPVMPRAVFSTSDSPCYQWRSERLNQRLLLREFHQSKRVERLSGGGGYGTCVRCLTTGIHFIDLRILCRASLVRRTWCKSNYALRQEKSSTRIQAPVRMTRVYWYTINSIEPGFGALQLLPAANGYTIRSLIVSVGWGKFDHFPPGDQVCCGAHRGELERDPVLTENCVLRTALTGSIARPKRRIVVIIHSCFSPFATSYILDNRPPLATTTLSAHWQGLREAYRSDSCRGELLVGRVIQGSAAIVKRWPCIESFNMQQFLERTCTGSRWKSSTLQTNPVSNLAAQDREGCRDSRPTSPKARTPTPDRENCCYYIYGRELLVNLWVEAYLEPARSKEIARFGVLQRELLCGLEPVLFRVIRPRTGPNPQLKLYVPQAKEQRQNNITPNGPNTIRCTICFIPRSAEPGTISHAPSVFRYTIVGVNTMPLSNYSVTLYLSRSRPRVTLGGMTLYSSSLRCWHAGRKLALSGAESLPAKISILRHIRRLLTMHKARLMLGPSLGLRRPYKPINGVVSGRNRTQATSRQYGPQFGSLVLSRPRLVTSTIIFSLSLRVAGQTPKSALPSIFSVTLVPVVLGVDLARITFYSSAQVKFIRYGRALSGARSRSCEFPTMHSSLRRRPRPILRCFNYFRPPRHCTETRILPLAMSHVVVLLHDEQAGNNVLGPHPLAGCGCTAHPETANLDSGLSFVPHSFPQVPNLQHVVLHPILFTLPSIGAVKDEPEPNYLVRFQVPISKKGLYLYPPFQRLLDTALPGNQDMWSSRPTVIGGKHRFCTVRPEMRSHYLRRSYTVDWTKLRRVVRFRLAVLTFEKPIRIEFLQVVKSDQVHFRYCTYIWYVWSTITARPLSTRSCWYLPVPCTRLFAQNFMGQRLKLWGASTWSVGYLGLNPCLWWTLTYMDSIPCSRYAPGSRNARRSCDFESHRGGLSLRPESTDNVDGAYDSPCMVAMGRLDLHHAQLTSKIKYSRSSLGLAMAWSEVQGTVDNRPDMLAIAFEHVEFNPSVTITGSQHANTGCCADSKHSSYLKADHDTTRHREGVTSRTSVIWRLLSAWHRARYSSPGKRKSRRFRDPHFYPLGVYTTALELIALRSEKTVNPSMGMLLGASDSRILGGGDQSSELGPSYGEVLLGLCPLQPATWPSLTAFLGDKLILSLRETQGTTTPRNSASLSFFGPTHDFSEVPYKSVGSGFTIPPARKIYLGPVNNIRSIRRYLLCALRRLSLDATFIDLPRSRVLNLKEKIRGGVNVCRSFSYVIPMCPITTCRGVSFALHVLISDSGGNYVHLLVRWNDAQSAVKISGSPNPIVSIGVRLRFVGHCLGGFNSAFAVIYLGAFGQEHARQWVSIQTFSIAPFPPDIAPFRAFTQLWWSAVSGGLPTFDGDCIETKTVHRSGRTDASRYQAQTQFAVLRRAGFSTSISCPRLPWLSGRTLLTGSQGGRAIYCAKNLLRVGECLHCFSSTENTFTLVNRSLLASGWGLDVLILHIGPLYYGECESWNPLLYYTGSASSIQFRTHEPWILGLGTLTFVLRVELMPLVSFILLASRTPSAQVRLKRPWKIPTYMSIQGRRSGRRELMTRAVSYNPILYRSLNIQTTRFNDTFCCWSLSLPGSTDVYSAFPKVVTRLSFISTYFDEQNVLSPQSDESPDKRDLYARSDNQHLFPRRTRPISVSTQAPPLLWKRAVSFDPTLLMAQYLYRCRSTQNITAGEDDLYMGRLTILAMWTVIGAFLKQSPWSISNEHLISPANALYNRMKVLTDKMRSATAFGFGTSHRLQYRYPMHTNISTLSLLMVRCISTIHEQPGLLPRYLHLNALTVKTHPSSVIEGLIILTLSNLRAEPVDSGANGVTGADVALYVIFSRGLSMIPMSVSTQLSPLVTGLPSSSVSYFGLRTSLTLAAARSWARNMSFRYRIGAPYGGCPRWAQGSGSAIDYKLPRPMTVGSWWIIVFETRLREDKKCRLRAPQNPIAEYRCDLLIMRRTSRGLLGESSVSDSHLRVARHCERWTHHESILYCSAETIDGLCQPSTSDSTSPERTLGPIGGTRFATSIEKERGLVKLKCSARINSYWSDRVGGQVIAREPNRVHANSRGSQESVVIYMIGEEAFSERCGIGYSTGAYSLDGPNRERFESMQARSNLWDLEGVVKRRSVGCIYSIMMTLIENVAPASLCDYDLGYSQVSESKKGQSCEKRRDHSTAYEYSVSIQSSPVRLINLSHKARSRVAHLCVSRINVQYQPPNVTTPDMEHSEYLEFYKHCSILYGHICYFRMEYSAQRLSGTRPTYALNHPGSDYRGDDRLGITPVFRPYLGVKLTGGLQQGYPHQSRSEYLLKLRVRGWVHSIESYVGSEREAEASSPFVRHQ*\n"
          ]
        },
        {
          "output_type": "stream",
          "name": "stderr",
          "text": [
            "/usr/local/lib/python3.12/dist-packages/Bio/Seq.py:2879: BiopythonWarning: Partial codon, len(sequence) not a multiple of three. Explicitly trim the sequence or add trailing N before translation. This may become an error in future.\n",
            "  warnings.warn(\n"
          ]
        }
      ]
    },
    {
      "cell_type": "markdown",
      "source": [
        "####**<font color=crimson>TASK 21.3 Commit to GitHub**</font>\n"
      ],
      "metadata": {
        "id": "dvtR4N7L6sZ_"
      }
    },
    {
      "cell_type": "markdown",
      "source": [
        "#<font color=blue>**P22.**</font> SeqIO – a function to parse( ) sequence files"
      ],
      "metadata": {
        "id": "bDJqtRiX3fEG"
      }
    },
    {
      "cell_type": "markdown",
      "source": [
        "####**TASK BP 22.1** Read in the practice dataset from Rosalind #9 and print the id of each sequence in the file."
      ],
      "metadata": {
        "id": "VKyMhLjx7nIo"
      }
    },
    {
      "cell_type": "code",
      "source": [
        "from Bio.SeqIO import parse\n",
        "from Bio.SeqUtils import gc_fraction\n",
        "with open(\"/content/practice_9.txt\",\"r\") as practice_9:\n",
        "\n",
        "  for seq_record in parse(\"practice_9.txt\", \"fasta\"):\n",
        "    print (seq_record.id)\n",
        "    sequence = (seq_record.seq)\n",
        "    print (gc_fraction(sequence))"
      ],
      "metadata": {
        "colab": {
          "base_uri": "https://localhost:8080/"
        },
        "id": "xUi3JEoh7yJ6",
        "outputId": "45062d5e-dce4-4d2f-f176-3ceb9b3036ce"
      },
      "execution_count": 23,
      "outputs": [
        {
          "output_type": "stream",
          "name": "stdout",
          "text": [
            "Rosalind_6404\n",
            "0.5375\n",
            "Rosalind_5959\n",
            "0.5357142857142857\n",
            "Rosalind_0808\n",
            "0.6091954022988506\n"
          ]
        }
      ]
    },
    {
      "cell_type": "markdown",
      "source": [
        "#<font color=blue>**P23.**</font> SeqUtils.GC( ) – a function to compute GC content"
      ],
      "metadata": {
        "id": "SAjUYBpe3pwi"
      }
    },
    {
      "cell_type": "code",
      "metadata": {
        "colab": {
          "base_uri": "https://localhost:8080/"
        },
        "id": "3d2de6db",
        "outputId": "2d1feca1-58bd-4954-8e4e-4e70659961c9"
      },
      "source": [
        "try:\n",
        "  from Bio.Seq import Seq\n",
        "  print(\"Biopython is installed correctly.\")\n",
        "except ImportError:\n",
        "  print(\"Biopython is not installed or there was an import error.\")"
      ],
      "execution_count": 18,
      "outputs": [
        {
          "output_type": "stream",
          "name": "stdout",
          "text": [
            "Biopython is installed correctly.\n"
          ]
        }
      ]
    },
    {
      "cell_type": "code",
      "source": [
        "# Practice code from Rosalind.\n",
        "from Bio.SeqIO import parse\n",
        "from Bio.SeqUtils import gc_fraction\n",
        "with open(\"/content/practice_10.txt\",\"r\") as practice_10:\n",
        "  for seq_record in parse(\"practice_10.txt\", \"fasta\"):\n",
        "    max_sequence = \"\"\n",
        "    max_id = \"\"\n",
        "    seq = seq_record.seq\n",
        "    if gc_fraction(seq) > gc_fraction(max_sequence):\n",
        "      max_sequence = seq\n",
        "      max_id = seq_record.id\n",
        "\n",
        "print (max_id)\n",
        "print (gc_fraction(max_sequence))"
      ],
      "metadata": {
        "colab": {
          "base_uri": "https://localhost:8080/"
        },
        "id": "KwNt8YtkzsCP",
        "outputId": "e09d4815-6b6d-4e78-fa03-d36cbf1bd7e8"
      },
      "execution_count": 26,
      "outputs": [
        {
          "output_type": "stream",
          "name": "stdout",
          "text": [
            "Rosalind_0808\n",
            "0.6091954022988506\n"
          ]
        }
      ]
    },
    {
      "cell_type": "code",
      "source": [
        "# Enter code for Rosalind 9 here.\n",
        "from Bio.SeqIO import parse\n",
        "from Bio.SeqUtils import gc_fraction\n",
        "with open(\"/content/rosalinddata10.txt\",\"r\") as rosalinddata10:\n",
        "  for seq_record in parse(\"/content/rosalinddata10.txt\", \"fasta\"):\n",
        "    max_sequence = \"\"\n",
        "    max_id = \"\"\n",
        "    seq = seq_record.seq\n",
        "    if gc_fraction(seq) > gc_fraction(max_sequence):\n",
        "      max_sequence = seq\n",
        "      max_id = seq_record.id\n",
        "\n",
        "print (max_id)\n",
        "print (f\"{gc_fraction(max_sequence)*100:.6f}%\")"
      ],
      "metadata": {
        "colab": {
          "base_uri": "https://localhost:8080/"
        },
        "id": "x6WNuUx0B-9b",
        "outputId": "98e43028-d574-4c0d-8584-845ae50435d0"
      },
      "execution_count": 32,
      "outputs": [
        {
          "output_type": "stream",
          "name": "stdout",
          "text": [
            "Rosalind_6700\n",
            "53.430821%\n"
          ]
        }
      ]
    }
  ]
}